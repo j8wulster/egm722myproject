{
 "cells": [
  {
   "cell_type": "code",
   "execution_count": null,
   "id": "0d5334bb-0f8d-422f-9af0-33dc26890a7b",
   "metadata": {},
   "outputs": [],
   "source": [
    "#start by importing modules\n",
    "\n",
    "import os \n",
    "import numpy as np\n",
    "import geopandas as gpd\n",
    "import matplotlib.pyplot as plt\n",
    "from cartopy.feature import ShapelyFeature\n",
    "import cartopy.crs as ccrs\n",
    "import matplotlib.patches as mpatches\n",
    "import matplotlib.lines as mlines\n",
    "import pandas as pd\n",
    "from shapely.geometry import Point\n",
    "from pyproj import CRS\n",
    "%matplotlib inline #enable interactive use of figures\n",
    "plt.ion()"
   ]
  },
  {
   "cell_type": "code",
   "execution_count": 20,
   "id": "1fe48db5-879d-433a-82fe-2991c90aef1f",
   "metadata": {},
   "outputs": [],
   "source": [
    "# function to reproject project correct CRS\n",
    "def set_and_reproj(gdf, current_epsg=4326, target_epsg=32629):\n",
    "    '''\n",
    "    Assigns current epsg to a GeoDataFrame if missing, then reprojects it to target CRS.\n",
    "\n",
    "    Parameters:\n",
    "    - gdf: GeoDataFrame\n",
    "    - current_epsg: EPSG code of current CRS (default: 4326)\n",
    "    - target_epsg: EPSG code to reproject to (default: 32629)\n",
    "\n",
    "    Returns:\n",
    "    - Reprojected GeoDataFrame\n",
    "    '''\n",
    "    if gdf.crs is None:\n",
    "        gdf = gdf.set_crs(epsg=current_epsg)\n",
    "        \n",
    "    return gdf.to_crs(epsg=target_epsg)\n",
    "    "
   ]
  },
  {
   "cell_type": "code",
   "execution_count": 21,
   "id": "9e7394c2-8580-4265-b4f6-cb7a47ec9f37",
   "metadata": {},
   "outputs": [],
   "source": [
    "# read in data and use function to reproject\n",
    "survey_area = set_and_reproj(gpd.read_file('data/survey_area.shp'), current_epsg=4326)\n",
    "route = set_and_reproj(gpd.read_file('data/surveyroute.shp'), current_epsg=4326)\n",
    "habitat = set_and_reproj(gpd.read_file('data/habitat.shp'), current_epsg=4326)\n",
    "birds = set_and_reproj(gpd.read_file('data/birdrecord2.shp'), current_epsg=4326)\n"
   ]
  },
  {
   "cell_type": "code",
   "execution_count": null,
   "id": "a788b9bc-1ed1-4eaa-8140-d735e1dba304",
   "metadata": {},
   "outputs": [],
   "source": [
    "print (survey_area.crs) #view sample CRS to ensure data has been successfully reprojected"
   ]
  },
  {
   "cell_type": "code",
   "execution_count": 23,
   "id": "bc35720f-2fa2-44fe-a58f-3c2fc625bd3d",
   "metadata": {},
   "outputs": [],
   "source": [
    "scot_utm = ccrs.UTM(30) # create lat/long reference system to transform data"
   ]
  },
  {
   "cell_type": "code",
   "execution_count": null,
   "id": "8033bcce-c55f-462d-92f0-c0596432152a",
   "metadata": {},
   "outputs": [],
   "source": [
    "#plot data individually to ensure all sing same CRS\n",
    "ax = survey_area.boundary.plot()\n",
    "habitat.boundary.plot(ax=ax)\n",
    "birds.plot(ax=ax)\n",
    "habitat.boundary.plot(ax=ax)\n",
    "route.plot(ax=ax)\n",
    "\n"
   ]
  }
 ],
 "metadata": {
  "kernelspec": {
   "display_name": "Python 3 (ipykernel)",
   "language": "python",
   "name": "python3"
  },
  "language_info": {
   "codemirror_mode": {
    "name": "ipython",
    "version": 3
   },
   "file_extension": ".py",
   "mimetype": "text/x-python",
   "name": "python",
   "nbconvert_exporter": "python",
   "pygments_lexer": "ipython3",
   "version": "3.13.2"
  }
 },
 "nbformat": 4,
 "nbformat_minor": 5
}
