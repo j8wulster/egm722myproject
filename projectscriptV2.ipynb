{
 "cells": [
  {
   "cell_type": "code",
   "execution_count": null,
   "id": "4748ef2f-0c8b-409b-965d-342ce52c0b84",
   "metadata": {},
   "outputs": [],
   "source": [
    "#start by importing modules\n",
    "#enable interactive use of figures\n",
    "%matplotlib widget\n",
    "import os\n",
    "import geopandas as gpd\n",
    "import matplotlib.pyplot as plt\n",
    "from cartopy.feature import ShapelyFeature\n",
    "import cartopy.crs as ccrs\n",
    "import matplotlib.patches as mpatches\n",
    "import matplotlib.lines as mlines\n",
    "\n",
    "plt.ion() # make the plotting interactive\n"
   ]
  },
  {
   "cell_type": "code",
   "execution_count": null,
   "id": "07c96285-b8d4-499d-9c59-8e9f189a0ee6",
   "metadata": {},
   "outputs": [],
   "source": [
    "def generate_handles(labels, colors, edge='k', alpha=1):\n",
    "    \"\"\"\n",
    "    Generate matplotlib patch handles to create a legend of each of the features in the map.\n",
    "\n",
    "    Parameters\n",
    "    ----------\n",
    "\n",
    "    labels : list(str)\n",
    "        the text labels of the features to add to the legend\n",
    "\n",
    "    colors : list(matplotlib color)\n",
    "        the colors used for each of the features included in the map.\n",
    "\n",
    "    edge : matplotlib color (default: 'k')\n",
    "        the color to use for the edge of the legend patches.\n",
    "\n",
    "    alpha : float (default: 1.0)\n",
    "        the alpha value to use for the legend patches.\n",
    "\n",
    "    Returns\n",
    "    -------\n",
    "\n",
    "    handles : list(matplotlib.patches.Rectangle)\n",
    "        the list of legend patches to pass to ax.legend()\n",
    "    \"\"\"\n",
    "    lc = len(colors)  # get the length of the color list\n",
    "    handles = [] # create an empty list\n",
    "    for ii in range(len(labels)): # for each label and color pair that we're given, make an empty box to pass to our legend\n",
    "        handles.append(mpatches.Rectangle((0, 0), 1, 1, facecolor=colors[ii % lc], edgecolor=edge, alpha=alpha))\n",
    "    return handles"
   ]
  },
  {
   "cell_type": "code",
   "execution_count": null,
   "id": "bcbbaef7-7bed-476c-b148-757c16c43b72",
   "metadata": {},
   "outputs": [],
   "source": [
    "# here we are defining a function to create a scale bar\n",
    "# adapted this question: https://stackoverflow.com/q/32333870\n",
    "# answered by SO user Siyh: https://stackoverflow.com/a/35705477\n",
    "def scale_bar(ax, length=10, location=(0.92, 0.95)):\n",
    "    \"\"\"\n",
    "    Create a scale bar in a cartopy GeoAxes.\n",
    "\n",
    "    Parameters\n",
    "    ----------\n",
    "\n",
    "    ax : cartopy.mpl.geoaxes.GeoAxes\n",
    "        the cartopy GeoAxes to add the scalebar to.\n",
    "\n",
    "    length : int, float (default 20)\n",
    "        the length of the scalebar, in km\n",
    "\n",
    "    location : tuple(float, float) (default (0.92, 0.95))\n",
    "        the location of the center right corner of the scalebar, in fractions of the axis.\n",
    "\n",
    "    Returns\n",
    "    -------\n",
    "    ax : cartopy.mpl.geoaxes.GeoAxes\n",
    "        the cartopy GeoAxes object\n",
    "\n",
    "    \"\"\"\n",
    "    x0, x1, y0, y1 = ax.get_extent() # get the current extent of the axis\n",
    "    sbx = x0 + (x1 - x0) * location[0] # get the right x coordinate of the scale bar\n",
    "    sby = y0 + (y1 - y0) * location[1] # get the right y coordinate of the scale bar\n",
    "\n",
    "    ax.plot([sbx, sbx-length*1000], [sby, sby], color='k', linewidth=4, transform=ax.projection) # plot a thick black line\n",
    "    ax.plot([sbx-(length/2)*1000, sbx-length*1000], [sby, sby], color='w', linewidth=2, transform=ax.projection) # plot a white line from 0 to halfway\n",
    "\n",
    "    ax.text(sbx, sby-(length/4)*1000, f\"{length} km\", ha='center', transform=ax.projection, fontsize=6) # add a label at the right side\n",
    "    ax.text(sbx-(length/2)*1000, sby-(length/4)*1000, f\"{int(length/2)} km\", ha='center', transform=ax.projection, fontsize=6) # add a label in the center\n",
    "    ax.text(sbx-length*1000, sby-(length/4)*1000, '0 km', ha='center', transform=ax.projection, fontsize=6) # add a label at the left side\n",
    "\n",
    "    return ax"
   ]
  },
  {
   "cell_type": "code",
   "execution_count": null,
   "id": "51d082fe-2e15-4440-8b72-be976f3fdac5",
   "metadata": {},
   "outputs": [],
   "source": [
    "#  this cell defines a function to reproject the data to the correct projected CRS on the fly if needed but best practice to ensure data using correct CRS prior to reading in\n",
    "#\n",
    "#def set_and_reproj(gdf, current_epsg=4326, target_epsg=32430):\n",
    "    '''\n",
    "    Assigns current epsg to a GeoDataFrame if missing, then reprojects it to target CRS.\n",
    "\n",
    "    Parameters:\n",
    "    - gdf: GeoDataFrame\n",
    "    - current_epsg: EPSG code of current CRS (default: 4326)\n",
    "    - target_epsg: EPSG code to reproject to (default: 32430)\n",
    "\n",
    "    Returns:\n",
    "    - Reprojected GeoDataFrame\n",
    "    '''\n",
    "    #if gdf.crs is None:\n",
    "        gdf = gdf.set_crs(epsg=current_epsg)\n",
    "\n",
    "    #return gdf.to_crs(epsg=target_epsg)\n",
    "\n",
    "# read in data and use function to reproject, skip this step and move onto #loading datasets below if files are using correct CRS\n",
    "#surveyarea = set_and_reproj(gpd.read_file('data/survey_area.shp'), current_epsg=4326)\n",
    "#habitat = set_and_reproj(gpd.read_file('data/habitat3.shp'), current_epsg=4326)\n",
    "#birds = set_and_reproj(gpd.read_file('data/birdrecord.shp'), current_epsg=4326)"
   ]
  },
  {
   "cell_type": "code",
   "execution_count": null,
   "id": "b945c834-89ec-4a6f-95dc-7ca3c6da198a",
   "metadata": {},
   "outputs": [],
   "source": [
    "# load in the datasets\n",
    "surveyarea = gpd.read_file(os.path.abspath('data/surveyarea4.shp'))\n",
    "habitat = gpd.read_file(os.path.abspath('data/habitat4.shp'))\n",
    "birds = gpd.read_file(os.path.abspath('data/bird_record2.shp'))"
   ]
  },
  {
   "cell_type": "code",
   "execution_count": null,
   "id": "8ec5425f-9e24-4e83-ba51-76952ec7c425",
   "metadata": {},
   "outputs": [],
   "source": [
    "scot_utm = ccrs.UTM(30)  # this creates a Universal Transverse Mercator reference system to transform our data.\n",
    "# Scotland is in UTM Zone 30, so we pass 30 to ccrs.UTM()"
   ]
  },
  {
   "cell_type": "code",
   "execution_count": null,
   "id": "e69ac5b2-1ab1-4e27-a1a6-13d89fa86c9a",
   "metadata": {},
   "outputs": [],
   "source": [
    "ccrs.CRS(surveyarea.crs) # here we create a cartopy CRS representation of the CRS associated with the surveyarea dataset"
   ]
  },
  {
   "cell_type": "code",
   "execution_count": null,
   "id": "f3d8d129-31f3-4554-a462-ed322bc2b6d1",
   "metadata": {},
   "outputs": [],
   "source": [
    "ccrs.CRS(habitat.crs)"
   ]
  },
  {
   "cell_type": "code",
   "execution_count": null,
   "id": "0256a7c8-107a-4078-b1a8-a8dcd5ad3f76",
   "metadata": {},
   "outputs": [],
   "source": [
    "ccrs.CRS(birds.crs)"
   ]
  },
  {
   "cell_type": "code",
   "execution_count": null,
   "id": "2d7a360f-2ccd-4235-bcda-7dd8ca8fd097",
   "metadata": {},
   "outputs": [],
   "source": [
    "#plot data individually to ensure all using same CRS\n",
    "ax = surveyarea.boundary.plot()\n",
    "habitat.boundary.plot(ax=ax)\n",
    "birds.plot(ax=ax)\n",
    "\n",
    "\n",
    "\n"
   ]
  },
  {
   "cell_type": "code",
   "execution_count": null,
   "id": "01901209-d1e0-4dfa-9b15-ae715fbbfe82",
   "metadata": {},
   "outputs": [],
   "source": [
    "fig = plt.figure(figsize=(8, 8))  # create a figure of size 8x8 (representing the page size in inches)\n",
    "ax = plt.axes(projection=scot_utm)  # create an axes object in the figure, using the defined UTM projection within which we can actually plot our data."
   ]
  },
  {
   "cell_type": "code",
   "execution_count": null,
   "id": "c565ce29-05ac-4c7c-a0d3-20c5b92e373a",
   "metadata": {},
   "outputs": [],
   "source": [
    "# first add the surveyarea dataset using cartopy's ShapelyFeature\n",
    "surveyarea_feature = ShapelyFeature(surveyarea['geometry'], scot_utm, edgecolor='k', facecolor='w')\n",
    "ax.add_feature(surveyarea_feature) # this adds the features we've created to the map."
   ]
  },
  {
   "cell_type": "code",
   "execution_count": null,
   "id": "ad2a3787-2362-491f-a77a-24c3a5a9d2de",
   "metadata": {},
   "outputs": [],
   "source": [
    "xmin, ymin, xmax, ymax = surveyarea.total_bounds\n",
    "# using the boundary of the shapefile features, zoom the map to our area of interest\n",
    "ax.set_extent([xmin-4000, xmax+4000, ymin-4000, ymax+4000], crs=scot_utm)  # because total_bounds\n",
    "# gives output as xmin, ymin, xmax, ymax,\n",
    "# but set_extent takes xmin, xmax, ymin, ymax, we re-order the coordinates here.\n",
    "fig"
   ]
  },
  {
   "cell_type": "code",
   "execution_count": null,
   "id": "bbdd0682-a676-4e98-a015-ead8ab6b9eed",
   "metadata": {},
   "outputs": [],
   "source": [
    "# select colors and then add features to the map\n",
    "habitat_colors = ['#003f5c', '#444e86', '#955196', '#dd5182', '#ff6e54', '#ffa600']\n",
    "\n",
    "# get a list of unique names for the habitat types\n",
    "habitat_type = list(habitat['type'])\n",
    "habitat_type.sort() # sort the counties alphabetically by name"
   ]
  },
  {
   "cell_type": "code",
   "execution_count": null,
   "id": "3748b02f-feec-4d79-8a79-aad245d2369a",
   "metadata": {},
   "outputs": [],
   "source": [
    "# next step is to add the habitat polygons to the map using the colors selected above\n",
    "# here, we're iterating over the unique values in the 'type' field.\n",
    "# we're also setting the edge color to be black, with a line width of 0.5 pt.\n",
    "\n",
    "for ii, name in enumerate(habitat_type):\n",
    "    feat = ShapelyFeature(habitat.loc[habitat['type'] == name, 'geometry'], # first argument is the geometry\n",
    "                          ccrs.CRS(habitat.crs), # second argument is the CRS\n",
    "                          edgecolor='k', # outline the feature in black\n",
    "                          facecolor=habitat_colors[ii], # set the face color to the corresponding color from the list\n",
    "                          linewidth=1, # set the outline width to be 1 pt\n",
    "                          alpha=0.6) # set the alpha (transparency) from a scale up to 1\n",
    "    ax.add_feature(feat) # once we have created the feature, we have to actively add it to the map using ax.add_feature()"
   ]
  },
  {
   "cell_type": "code",
   "execution_count": null,
   "id": "9ed4af1c-f2a6-4865-b235-117f146257f0",
   "metadata": {},
   "outputs": [],
   "source": [
    "# here, we're setting the edge color to be the same as the face color. Feel free to change this around,\n",
    "# and experiment with different line widths.\n",
    "#route_feat = ShapelyFeature(route['geometry'], # first argument is the geometry\n",
    "                            #ccrs.CRS(route.crs), # second argument is the CRS\n",
    "                            #edgecolor='mediumblue', # set the edgecolor to be mediumblue\n",
    "                            #facecolor='mediumblue', # set the facecolor to be mediumblue\n",
    "                            #linewidth=1) # set the outline width to be 1 pt\n",
    "#ax.add_feature(route_feat) # add the collection of features to the map"
   ]
  },
  {
   "cell_type": "code",
   "execution_count": null,
   "id": "1ee79f9b-45d8-4890-a2ac-bbb0254a281e",
   "metadata": {},
   "outputs": [],
   "source": [
    "#route_feat = ShapelyFeature(route['geometry'], # first argument is the geometry\n",
    "                            #ccrs.CRS(route.crs), # second argument is the CRS\n",
    "                            #edgecolor='mediumblue', # set the edgecolor to be royalblue\n",
    "                           # linewidth=0.2) # set the linewidth to be 0.2 pt\n",
    "#ax.add_feature(route_feat) # add the collection of features to the map"
   ]
  },
  {
   "cell_type": "code",
   "execution_count": null,
   "id": "491e1d7a-7f89-4bf1-b879-c83be6b7a91f",
   "metadata": {},
   "outputs": [],
   "source": [
    "# ShapelyFeature creates a polygon, so when working with point data we can just use ax.plot()\n",
    "# here we add the bird point records\n",
    "birds_handle = ax.plot(birds.geometry.x, birds.geometry.y, 's', color='0.5', ms=4, transform=ccrs.CRS(birds.crs))\n",
    "fig"
   ]
  },
  {
   "cell_type": "code",
   "execution_count": null,
   "id": "b1d93434-d1e2-4524-a532-edb8111c0082",
   "metadata": {},
   "outputs": [],
   "source": [
    "# generate a list of handles for the habitat datasets\n",
    "# first, add the list of habitat type, then the list of colors, and finally set the transparency\n",
    "\n",
    "habitat_handles = generate_handles(habitat.type.unique(), habitat_colors, alpha=0.8)"
   ]
  },
  {
   "cell_type": "code",
   "execution_count": null,
   "id": "fee86863-1e2d-4b67-b165-98e5a9daad62",
   "metadata": {},
   "outputs": [],
   "source": [
    "# ax.legend() takes a list of handles and a list of labels corresponding to the objects\n",
    "# here we add to the legend\n",
    "handles = habitat_handles + birds_handle # use '+' to concatenate (combine) lists\n",
    "labels =  ['Habitat', 'Birds']\n",
    "\n",
    "leg = ax.legend(handles, labels, title='Legend', title_fontsize=8,\n",
    "                 fontsize=5, loc='upper left', frameon=True, framealpha=1)\n",
    "fig"
   ]
  },
  {
   "cell_type": "code",
   "execution_count": null,
   "id": "592c4c0e-24c0-4e38-b0a8-040f06368c8e",
   "metadata": {},
   "outputs": [],
   "source": [
    " # draw labels for the grid lines\n",
    "gridlines = ax.gridlines(draw_labels=True,)                        \n",
    "gridlines.left_labels = False # turn off the left-side labels\n",
    "gridlines.bottom_labels = False # turn off the bottom labels"
   ]
  },
  {
   "cell_type": "code",
   "execution_count": null,
   "id": "cd56e609-24dd-4470-be70-dcd28d4fb8b1",
   "metadata": {},
   "outputs": [],
   "source": [
    "# add the text labels for the bird records\n",
    "for ind, row in birds.iterrows(): # birds.iterrows() returns the index and row\n",
    "    x, y = row.geometry.x, row.geometry.y # get the x,y location for each bird record\n",
    "    ax.text(x, y, row['bird_spp'].title(), fontsize=4, transform=ccrs.CRS(birds.crs)) # use plt.text to place a label at x,y\n"
   ]
  },
  {
   "cell_type": "code",
   "execution_count": null,
   "id": "1b1af4b0-f223-4a7e-9a53-02db46877a05",
   "metadata": {},
   "outputs": [],
   "source": [
    "# add the scale bar to the axis\n",
    "scale_bar(ax)"
   ]
  },
  {
   "cell_type": "code",
   "execution_count": null,
   "id": "90041f2d-5db3-4cc5-bd39-6eb0d31a7a13",
   "metadata": {},
   "outputs": [],
   "source": [
    "# final step is to save the figure as SurveyMap.png, cropped to the axis (bbox_inches='tight'), and a dpi of 200\n",
    "fig.savefig('SurveyMap.png', bbox_inches='tight', dpi=200)"
   ]
  },
  {
   "cell_type": "code",
   "execution_count": null,
   "id": "c31b41b5-d093-496b-ac43-f75999055ff9",
   "metadata": {},
   "outputs": [],
   "source": []
  }
 ],
 "metadata": {
  "kernelspec": {
   "display_name": "Python 3 (ipykernel)",
   "language": "python",
   "name": "python3"
  },
  "language_info": {
   "codemirror_mode": {
    "name": "ipython",
    "version": 3
   },
   "file_extension": ".py",
   "mimetype": "text/x-python",
   "name": "python",
   "nbconvert_exporter": "python",
   "pygments_lexer": "ipython3",
   "version": "3.9.22"
  }
 },
 "nbformat": 4,
 "nbformat_minor": 5
}
