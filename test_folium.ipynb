{
 "cells": [
  {
   "cell_type": "code",
   "execution_count": null,
   "id": "e0caad61-94e2-45eb-b241-923440ef0f43",
   "metadata": {},
   "outputs": [],
   "source": [
    "#start by importing required modules\n",
    "import pandas as pd\n",
    "import geopandas as gpd\n",
    "import folium\n",
    "import os"
   ]
  },
  {
   "cell_type": "code",
   "execution_count": null,
   "id": "17de3335-f6cf-45bc-9145-364e011d39fa",
   "metadata": {},
   "outputs": [],
   "source": [
    "# load in the datasets\n",
    "surveyarea = gpd.read_file(os.path.abspath('data/surveyarea4.shp'))\n",
    "habitat = gpd.read_file(os.path.abspath('data/habitat4.shp'))\n",
    "birds = gpd.read_file(os.path.abspath('data/bird_record2.shp'))"
   ]
  },
  {
   "cell_type": "code",
   "execution_count": null,
   "id": "3b81876c-6469-4aec-af28-1bf3bc5ed037",
   "metadata": {},
   "outputs": [],
   "source": [
    "print (surveyarea.crs) #view sample CRS to ensure data has been successfully reprojected"
   ]
  },
  {
   "cell_type": "code",
   "execution_count": null,
   "id": "a1b57f89-3102-4105-851b-43369bcbf15c",
   "metadata": {},
   "outputs": [],
   "source": [
    "print (habitat.crs)"
   ]
  },
  {
   "cell_type": "code",
   "execution_count": null,
   "id": "52d8a0a2-8240-45f4-ba36-b037c5fef787",
   "metadata": {},
   "outputs": [],
   "source": [
    "birds.head()# view the first 5 rows of the birds GeoDataFrame which is similar to the attribute table in GIS"
   ]
  },
  {
   "cell_type": "code",
   "execution_count": null,
   "id": "c2720155-6c7c-4846-90c6-7c46b8743d4a",
   "metadata": {},
   "outputs": [],
   "source": [
    "birds['count'].sum() # to get the sum of the count data"
   ]
  },
  {
   "cell_type": "code",
   "execution_count": null,
   "id": "4d51c4b0-17cb-4e5f-bbb1-e155a3ce5bd3",
   "metadata": {},
   "outputs": [],
   "source": [
    "#plot data individually to ensure all are using same CRS\n",
    "ax = surveyarea.boundary.plot()\n",
    "habitat.boundary.plot(ax=ax)\n",
    "birds.plot(ax=ax)\n",
    "\n",
    "\n"
   ]
  },
  {
   "cell_type": "code",
   "execution_count": null,
   "id": "a242cd4e-7596-4833-a912-d62ae31745b9",
   "metadata": {},
   "outputs": [],
   "source": [
    "#next step is to create an interactive folium.map from the GeoDataFrame using .explore() \n",
    "m = habitat.explore('type', cmap='viridis')\n",
    "m # show the map"
   ]
  },
  {
   "cell_type": "code",
   "execution_count": null,
   "id": "257e8ac5-675a-47be-8423-1f761e598930",
   "metadata": {},
   "outputs": [],
   "source": [
    "# next add the bird record points to the existing map\n",
    "birds.explore('bird_spp',\n",
    "                 m=m, # add the markers to the same map we just created\n",
    "                 marker_type='marker', # use a marker for the points, instead of a circle\n",
    "                 popup=True, # show the information relating to bird records as a popup when you click on the icon\n",
    "                 legend=False, # don't show a separate legend for the point layer\n",
    "                )"
   ]
  },
  {
   "cell_type": "code",
   "execution_count": null,
   "id": "ec7e545b-f44f-450a-9b07-6d6f294739b0",
   "metadata": {},
   "outputs": [],
   "source": [
    "#lets customize the markers using the marker_kwds argument, folium supports a wide range of icons (https://fontawesome.com/search)\n",
    "birds_args = {\n",
    "    'm' : m,\n",
    "    'marker_type' : 'marker',\n",
    "    'popup' : True,\n",
    "    'legend': False,\n",
    "    'marker_kwds' : {'icon' : folium.Icon(color= 'red', icon = 'crow', prefix='fa')}\n",
    "}\n",
    "birds.explore('bird_spp', **birds_args)\n",
    "m"
   ]
  },
  {
   "cell_type": "code",
   "execution_count": null,
   "id": "c65967d7-7b35-4de3-9663-a5d6c0e1e5ac",
   "metadata": {},
   "outputs": [],
   "source": [
    "m.save('SurveyMap.html')"
   ]
  }
 ],
 "metadata": {
  "kernelspec": {
   "display_name": "Python 3 (ipykernel)",
   "language": "python",
   "name": "python3"
  },
  "language_info": {
   "codemirror_mode": {
    "name": "ipython",
    "version": 3
   },
   "file_extension": ".py",
   "mimetype": "text/x-python",
   "name": "python",
   "nbconvert_exporter": "python",
   "pygments_lexer": "ipython3",
   "version": "3.9.22"
  }
 },
 "nbformat": 4,
 "nbformat_minor": 5
}
